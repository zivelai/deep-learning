{
 "cells": [
  {
   "cell_type": "markdown",
   "metadata": {
    "collapsed": true
   },
   "source": [
    "# Image Classification\n",
    "In this project, you'll classify images from the [CIFAR-10 dataset](https://www.cs.toronto.edu/~kriz/cifar.html).  The dataset consists of airplanes, dogs, cats, and other objects. You'll preprocess the images, then train a convolutional neural network on all the samples. The images need to be normalized and the labels need to be one-hot encoded.  You'll get to apply what you learned and build a convolutional, max pooling, dropout, and fully connected layers.  At the end, you'll get to see your neural network's predictions on the sample images.\n",
    "## Get the Data\n",
    "Run the following cell to download the [CIFAR-10 dataset for python](https://www.cs.toronto.edu/~kriz/cifar-10-python.tar.gz)."
   ]
  },
  {
   "cell_type": "code",
   "execution_count": 1,
   "metadata": {},
   "outputs": [
    {
     "name": "stdout",
     "output_type": "stream",
     "text": [
      "All files found!\n"
     ]
    }
   ],
   "source": [
    "\"\"\"\n",
    "DON'T MODIFY ANYTHING IN THIS CELL THAT IS BELOW THIS LINE\n",
    "\"\"\"\n",
    "from urllib.request import urlretrieve\n",
    "from os.path import isfile, isdir\n",
    "from tqdm import tqdm\n",
    "import problem_unittests as tests\n",
    "import tarfile\n",
    "\n",
    "cifar10_dataset_folder_path = 'cifar-10-batches-py'\n",
    "\n",
    "# Use Floyd's cifar-10 dataset if present\n",
    "floyd_cifar10_location = '/input/cifar-10/python.tar.gz'\n",
    "if isfile(floyd_cifar10_location):\n",
    "    tar_gz_path = floyd_cifar10_location\n",
    "else:\n",
    "    tar_gz_path = 'cifar-10-python.tar.gz'\n",
    "\n",
    "class DLProgress(tqdm):\n",
    "    last_block = 0\n",
    "\n",
    "    def hook(self, block_num=1, block_size=1, total_size=None):\n",
    "        self.total = total_size\n",
    "        self.update((block_num - self.last_block) * block_size)\n",
    "        self.last_block = block_num\n",
    "\n",
    "if not isfile(tar_gz_path):\n",
    "    with DLProgress(unit='B', unit_scale=True, miniters=1, desc='CIFAR-10 Dataset') as pbar:\n",
    "        urlretrieve(\n",
    "            'https://www.cs.toronto.edu/~kriz/cifar-10-python.tar.gz',\n",
    "            tar_gz_path,\n",
    "            pbar.hook)\n",
    "\n",
    "if not isdir(cifar10_dataset_folder_path):\n",
    "    with tarfile.open(tar_gz_path) as tar:\n",
    "        tar.extractall()\n",
    "        tar.close()\n",
    "\n",
    "\n",
    "tests.test_folder_path(cifar10_dataset_folder_path)"
   ]
  },
  {
   "cell_type": "markdown",
   "metadata": {},
   "source": [
    "## Explore the Data\n",
    "The dataset is broken into batches to prevent your machine from running out of memory.  The CIFAR-10 dataset consists of 5 batches, named `data_batch_1`, `data_batch_2`, etc.. Each batch contains the labels and images that are one of the following:\n",
    "* airplane\n",
    "* automobile\n",
    "* bird\n",
    "* cat\n",
    "* deer\n",
    "* dog\n",
    "* frog\n",
    "* horse\n",
    "* ship\n",
    "* truck\n",
    "\n",
    "Understanding a dataset is part of making predictions on the data.  Play around with the code cell below by changing the `batch_id` and `sample_id`. The `batch_id` is the id for a batch (1-5). The `sample_id` is the id for a image and label pair in the batch.\n",
    "\n",
    "Ask yourself \"What are all possible labels?\", \"What is the range of values for the image data?\", \"Are the labels in order or random?\".  Answers to questions like these will help you preprocess the data and end up with better predictions."
   ]
  },
  {
   "cell_type": "code",
   "execution_count": 2,
   "metadata": {},
   "outputs": [
    {
     "name": "stdout",
     "output_type": "stream",
     "text": [
      "\n",
      "Stats of batch 1:\n",
      "Samples: 10000\n",
      "Label Counts: {0: 1005, 1: 974, 2: 1032, 3: 1016, 4: 999, 5: 937, 6: 1030, 7: 1001, 8: 1025, 9: 981}\n",
      "First 20 Labels: [6, 9, 9, 4, 1, 1, 2, 7, 8, 3, 4, 7, 7, 2, 9, 9, 9, 3, 2, 6]\n",
      "\n",
      "Example of Image 5:\n",
      "Image - Min Value: 0 Max Value: 252\n",
      "Image - Shape: (32, 32, 3)\n",
      "Label - Label Id: 1 Name: automobile\n"
     ]
    },
    {
     "data": {
      "image/png": "[encoded data removed]",
      "text/plain": [
       "<matplotlib.figure.Figure at 0x7fbb909fe940>"
      ]
     },
     "metadata": {
      "image/png": {
       "height": 250,
       "width": 253
      }
     },
     "output_type": "display_data"
    }
   ],
   "source": [
    "%matplotlib inline\n",
    "%config InlineBackend.figure_format = 'retina'\n",
    "\n",
    "import helper\n",
    "import numpy as np\n",
    "\n",
    "# Explore the dataset\n",
    "batch_id = 1\n",
    "sample_id = 5\n",
    "helper.display_stats(cifar10_dataset_folder_path, batch_id, sample_id)"
   ]
  },
  {
   "cell_type": "markdown",
   "metadata": {},
   "source": [
    "## Implement Preprocess Functions\n",
    "### Normalize\n",
    "In the cell below, implement the `normalize` function to take in image data, `x`, and return it as a normalized Numpy array. The values should be in the range of 0 to 1, inclusive.  The return object should be the same shape as `x`."
   ]
  },
  {
   "cell_type": "code",
   "execution_count": 3,
   "metadata": {},
   "outputs": [
    {
     "name": "stdout",
     "output_type": "stream",
     "text": [
      "Tests Passed\n"
     ]
    }
   ],
   "source": [
    "def normalize(x):\n",
    "    \"\"\"\n",
    "    Normalize a list of sample image data in the range of 0 to 1\n",
    "    : x: List of image data.  The image shape is (32, 32, 3)\n",
    "    : return: Numpy array of normalize data\n",
    "    \"\"\"\n",
    "    # TODO: Implement Function\n",
    "    return np.array(x/255)\n",
    "    \n",
    "\n",
    "\"\"\"\n",
    "DON'T MODIFY ANYTHING IN THIS CELL THAT IS BELOW THIS LINE\n",
    "\"\"\"\n",
    "tests.test_normalize(normalize)"
   ]
  },
  {
   "cell_type": "markdown",
   "metadata": {},
   "source": [
    "### One-hot encode\n",
    "Just like the previous code cell, you'll be implementing a function for preprocessing.  This time, you'll implement the `one_hot_encode` function. The input, `x`, are a list of labels.  Implement the function to return the list of labels as One-Hot encoded Numpy array.  The possible values for labels are 0 to 9. The one-hot encoding function should return the same encoding for each value between each call to `one_hot_encode`.  Make sure to save the map of encodings outside the function.\n",
    "\n",
    "Hint: Don't reinvent the wheel."
   ]
  },
  {
   "cell_type": "code",
   "execution_count": 4,
   "metadata": {},
   "outputs": [
    {
     "name": "stdout",
     "output_type": "stream",
     "text": [
      "Tests Passed\n"
     ]
    }
   ],
   "source": [
    "def one_hot_encode(x):\n",
    "    \"\"\"\n",
    "    One hot encode a list of sample labels. Return a one-hot encoded vector for each label.\n",
    "    : x: List of sample Labels\n",
    "    : return: Numpy array of one-hot encoded labels\n",
    "    \"\"\"\n",
    "    # TODO: Implement Function\n",
    "    return np.eye(10, dtype=np.float32)[x]\n",
    "\n",
    "\n",
    "\"\"\"\n",
    "DON'T MODIFY ANYTHING IN THIS CELL THAT IS BELOW THIS LINE\n",
    "\"\"\"\n",
    "tests.test_one_hot_encode(one_hot_encode)"
   ]
  },
  {
   "cell_type": "markdown",
   "metadata": {},
   "source": [
    "### Randomize Data\n",
    "As you saw from exploring the data above, the order of the samples are randomized.  It doesn't hurt to randomize it again, but you don't need to for this dataset."
   ]
  },
  {
   "cell_type": "markdown",
   "metadata": {},
   "source": [
    "## Preprocess all the data and save it\n",
    "Running the code cell below will preprocess all the CIFAR-10 data and save it to file. The code below also uses 10% of the training data for validation."
   ]
  },
  {
   "cell_type": "code",
   "execution_count": 5,
   "metadata": {},
   "outputs": [],
   "source": [
    "\"\"\"\n",
    "DON'T MODIFY ANYTHING IN THIS CELL\n",
    "\"\"\"\n",
    "# Preprocess Training, Validation, and Testing Data\n",
    "helper.preprocess_and_save_data(cifar10_dataset_folder_path, normalize, one_hot_encode)"
   ]
  },
  {
   "cell_type": "markdown",
   "metadata": {},
   "source": [
    "# Check Point\n",
    "This is your first checkpoint.  If you ever decide to come back to this notebook or have to restart the notebook, you can start from here.  The preprocessed data has been saved to disk."
   ]
  },
  {
   "cell_type": "code",
   "execution_count": 6,
   "metadata": {
    "collapsed": true
   },
   "outputs": [],
   "source": [
    "\"\"\"\n",
    "DON'T MODIFY ANYTHING IN THIS CELL\n",
    "\"\"\"\n",
    "import pickle\n",
    "import problem_unittests as tests\n",
    "import helper\n",
    "\n",
    "# Load the Preprocessed Validation data\n",
    "valid_features, valid_labels = pickle.load(open('preprocess_validation.p', mode='rb'))"
   ]
  },
  {
   "cell_type": "markdown",
   "metadata": {},
   "source": [
    "## Build the network\n",
    "For the neural network, you'll build each layer into a function.  Most of the code you've seen has been outside of functions. To test your code more thoroughly, we require that you put each layer in a function.  This allows us to give you better feedback and test for simple mistakes using our unittests before you submit your project.\n",
    "\n",
    ">**Note:** If you're finding it hard to dedicate enough time for this course each week, we've provided a small shortcut to this part of the project. In the next couple of problems, you'll have the option to use classes from the [TensorFlow Layers](https://www.tensorflow.org/api_docs/python/tf/layers) or [TensorFlow Layers (contrib)](https://www.tensorflow.org/api_guides/python/contrib.layers) packages to build each layer, except the layers you build in the \"Convolutional and Max Pooling Layer\" section.  TF Layers is similar to Keras's and TFLearn's abstraction to layers, so it's easy to pickup.\n",
    "\n",
    ">However, if you would like to get the most out of this course, try to solve all the problems _without_ using anything from the TF Layers packages. You **can** still use classes from other packages that happen to have the same name as ones you find in TF Layers! For example, instead of using the TF Layers version of the `conv2d` class, [tf.layers.conv2d](https://www.tensorflow.org/api_docs/python/tf/layers/conv2d), you would want to use the TF Neural Network version of `conv2d`, [tf.nn.conv2d](https://www.tensorflow.org/api_docs/python/tf/nn/conv2d). \n",
    "\n",
    "Let's begin!\n",
    "\n",
    "### Input\n",
    "The neural network needs to read the image data, one-hot encoded labels, and dropout keep probability. Implement the following functions\n",
    "* Implement `neural_net_image_input`\n",
    " * Return a [TF Placeholder](https://www.tensorflow.org/api_docs/python/tf/placeholder)\n",
    " * Set the shape using `image_shape` with batch size set to `None`.\n",
    " * Name the TensorFlow placeholder \"x\" using the TensorFlow `name` parameter in the [TF Placeholder](https://www.tensorflow.org/api_docs/python/tf/placeholder).\n",
    "* Implement `neural_net_label_input`\n",
    " * Return a [TF Placeholder](https://www.tensorflow.org/api_docs/python/tf/placeholder)\n",
    " * Set the shape using `n_classes` with batch size set to `None`.\n",
    " * Name the TensorFlow placeholder \"y\" using the TensorFlow `name` parameter in the [TF Placeholder](https://www.tensorflow.org/api_docs/python/tf/placeholder).\n",
    "* Implement `neural_net_keep_prob_input`\n",
    " * Return a [TF Placeholder](https://www.tensorflow.org/api_docs/python/tf/placeholder) for dropout keep probability.\n",
    " * Name the TensorFlow placeholder \"keep_prob\" using the TensorFlow `name` parameter in the [TF Placeholder](https://www.tensorflow.org/api_docs/python/tf/placeholder).\n",
    "\n",
    "These names will be used at the end of the project to load your saved model.\n",
    "\n",
    "Note: `None` for shapes in TensorFlow allow for a dynamic size."
   ]
  },
  {
   "cell_type": "code",
   "execution_count": 7,
   "metadata": {},
   "outputs": [
    {
     "name": "stdout",
     "output_type": "stream",
     "text": [
      "Image Input Tests Passed.\n",
      "Label Input Tests Passed.\n",
      "Keep Prob Tests Passed.\n"
     ]
    }
   ],
   "source": [
    "import tensorflow as tf\n",
    "\n",
    "def neural_net_image_input(image_shape):\n",
    "    \"\"\"\n",
    "    Return a Tensor for a bach of image input\n",
    "    : image_shape: Shape of the images\n",
    "    : return: Tensor for image input.\n",
    "    \"\"\"\n",
    "    # TODO: Implement Function\n",
    "    batch, w, h, d = None, image_shape[0], image_shape[1], image_shape[2]\n",
    "    placeholder = 'x'\n",
    "    return tf.placeholder(tf.float32, shape=[batch, w, h, d], name=placeholder)\n",
    "\n",
    "\n",
    "def neural_net_label_input(n_classes):\n",
    "    \"\"\"\n",
    "    Return a Tensor for a batch of label input\n",
    "    : n_classes: Number of classes\n",
    "    : return: Tensor for label input.\n",
    "    \"\"\"\n",
    "    # TODO: Implement Function\n",
    "    batch = None\n",
    "    placeholder = 'y'\n",
    "    return tf.placeholder(tf.float32, shape=[None, n_classes], name=placeholder)\n",
    "\n",
    "\n",
    "def neural_net_keep_prob_input():\n",
    "    \"\"\"\n",
    "    Return a Tensor for keep probability\n",
    "    : return: Tensor for keep probability.\n",
    "    \"\"\"\n",
    "    # TODO: Implement Function\n",
    "    placeholder = 'keep_prob'\n",
    "    return tf.placeholder(tf.float32, name=placeholder)\n",
    "\n",
    "\n",
    "\"\"\"\n",
    "DON'T MODIFY ANYTHING IN THIS CELL THAT IS BELOW THIS LINE\n",
    "\"\"\"\n",
    "tf.reset_default_graph()\n",
    "tests.test_nn_image_inputs(neural_net_image_input)\n",
    "tests.test_nn_label_inputs(neural_net_label_input)\n",
    "tests.test_nn_keep_prob_inputs(neural_net_keep_prob_input)"
   ]
  },
  {
   "cell_type": "markdown",
   "metadata": {},
   "source": [
    "### Convolution and Max Pooling Layer\n",
    "Convolution layers have a lot of success with images. For this code cell, you should implement the function `conv2d_maxpool` to apply convolution then max pooling:\n",
    "* Create the weight and bias using `conv_ksize`, `conv_num_outputs` and the shape of `x_tensor`.\n",
    "* Apply a convolution to `x_tensor` using weight and `conv_strides`.\n",
    " * We recommend you use same padding, but you're welcome to use any padding.\n",
    "* Add bias\n",
    "* Add a nonlinear activation to the convolution.\n",
    "* Apply Max Pooling using `pool_ksize` and `pool_strides`.\n",
    " * We recommend you use same padding, but you're welcome to use any padding.\n",
    "\n",
    "**Note:** You **can't** use [TensorFlow Layers](https://www.tensorflow.org/api_docs/python/tf/layers) or [TensorFlow Layers (contrib)](https://www.tensorflow.org/api_guides/python/contrib.layers) for **this** layer, but you can still use TensorFlow's [Neural Network](https://www.tensorflow.org/api_docs/python/tf/nn) package. You may still use the shortcut option for all the **other** layers."
   ]
  },
  {
   "cell_type": "code",
   "execution_count": 8,
   "metadata": {},
   "outputs": [
    {
     "name": "stdout",
     "output_type": "stream",
     "text": [
      "Tests Passed\n"
     ]
    }
   ],
   "source": [
    "def conv2d_maxpool(x_tensor, conv_num_outputs, conv_ksize, conv_strides, pool_ksize, pool_strides):\n",
    "    \"\"\"\n",
    "    Apply convolution then max pooling to x_tensor\n",
    "    :param x_tensor: TensorFlow Tensor\n",
    "    :param conv_num_outputs: Number of outputs for the convolutional layer\n",
    "    :param conv_ksize: kernal size 2-D Tuple for the convolutional layer\n",
    "    :param conv_strides: Stride 2-D Tuple for convolution\n",
    "    :param pool_ksize: kernal size 2-D Tuple for pool\n",
    "    :param pool_strides: Stride 2-D Tuple for pool\n",
    "    : return: A tensor that represents convolution and max pooling of x_tensor\n",
    "    \"\"\"\n",
    "    # TODO: Implement Function\n",
    "    depth = x_tensor.get_shape().as_list()[-1]\n",
    "    padding = 'SAME'\n",
    "    \n",
    "    weights = tf.Variable(tf.truncated_normal([conv_ksize[0], conv_ksize[1], depth, conv_num_outputs], stddev=0.1))\n",
    "    biases = tf.Variable(tf.zeros(conv_num_outputs))\n",
    "    strides = [1, conv_strides[0], conv_strides[1], 1]\n",
    "    \n",
    "    conv = tf.nn.conv2d(x_tensor, weights, strides, padding=padding)    \n",
    "    conv = tf.nn.bias_add(conv, biases)\n",
    "    conv = tf.nn.relu(conv)\n",
    "    \n",
    "    conv_layer = tf.nn.max_pool(\n",
    "        conv, ksize=[1, pool_ksize[0], pool_ksize[0], 1], strides=[1, pool_strides[0], pool_strides[1], 1], \n",
    "        padding=padding)\n",
    "    \n",
    "    return conv_layer \n",
    "\n",
    "\n",
    "\"\"\"\n",
    "DON'T MODIFY ANYTHING IN THIS CELL THAT IS BELOW THIS LINE\n",
    "\"\"\"\n",
    "tests.test_con_pool(conv2d_maxpool)"
   ]
  },
  {
   "cell_type": "markdown",
   "metadata": {},
   "source": [
    "### Flatten Layer\n",
    "Implement the `flatten` function to change the dimension of `x_tensor` from a 4-D tensor to a 2-D tensor.  The output should be the shape (*Batch Size*, *Flattened Image Size*). Shortcut option: you can use classes from the [TensorFlow Layers](https://www.tensorflow.org/api_docs/python/tf/layers) or [TensorFlow Layers (contrib)](https://www.tensorflow.org/api_guides/python/contrib.layers) packages for this layer. For more of a challenge, only use other TensorFlow packages."
   ]
  },
  {
   "cell_type": "code",
   "execution_count": 9,
   "metadata": {},
   "outputs": [
    {
     "name": "stdout",
     "output_type": "stream",
     "text": [
      "Tests Passed\n"
     ]
    }
   ],
   "source": [
    "def flatten(x_tensor):\n",
    "    \"\"\"\n",
    "    Flatten x_tensor to (Batch Size, Flattened Image Size)\n",
    "    : x_tensor: A tensor of size (Batch Size, ...), where ... are the image dimensions.\n",
    "    : return: A tensor of size (Batch Size, Flattened Image Size).\n",
    "    \"\"\"\n",
    "    # TODO: Implement Function\n",
    "    return tf.contrib.layers.flatten(x_tensor)\n",
    "\n",
    "\n",
    "\"\"\"\n",
    "DON'T MODIFY ANYTHING IN THIS CELL THAT IS BELOW THIS LINE\n",
    "\"\"\"\n",
    "tests.test_flatten(flatten)"
   ]
  },
  {
   "cell_type": "markdown",
   "metadata": {},
   "source": [
    "### Fully-Connected Layer\n",
    "Implement the `fully_conn` function to apply a fully connected layer to `x_tensor` with the shape (*Batch Size*, *num_outputs*). Shortcut option: you can use classes from the [TensorFlow Layers](https://www.tensorflow.org/api_docs/python/tf/layers) or [TensorFlow Layers (contrib)](https://www.tensorflow.org/api_guides/python/contrib.layers) packages for this layer. For more of a challenge, only use other TensorFlow packages."
   ]
  },
  {
   "cell_type": "code",
   "execution_count": 11,
   "metadata": {},
   "outputs": [
    {
     "name": "stdout",
     "output_type": "stream",
     "text": [
      "Tests Passed\n"
     ]
    }
   ],
   "source": [
    "def fully_conn(x_tensor, num_outputs):\n",
    "    \"\"\"\n",
    "    Apply a fully connected layer to x_tensor using weight and bias\n",
    "    : x_tensor: A 2-D tensor where the first dimension is batch size.\n",
    "    : num_outputs: The number of output that the new tensor should be.\n",
    "    : return: A 2-D tensor where the second dimension is num_outputs.\n",
    "    \"\"\"\n",
    "    # TODO: Implement Function\n",
    "    return tf.contrib.layers.fully_connected(x_tensor, num_outputs=num_outputs)\n",
    "\n",
    "\n",
    "\"\"\"\n",
    "DON'T MODIFY ANYTHING IN THIS CELL THAT IS BELOW THIS LINE\n",
    "\"\"\"\n",
    "tests.test_fully_conn(fully_conn)"
   ]
  },
  {
   "cell_type": "markdown",
   "metadata": {},
   "source": [
    "### Output Layer\n",
    "Implement the `output` function to apply a fully connected layer to `x_tensor` with the shape (*Batch Size*, *num_outputs*). Shortcut option: you can use classes from the [TensorFlow Layers](https://www.tensorflow.org/api_docs/python/tf/layers) or [TensorFlow Layers (contrib)](https://www.tensorflow.org/api_guides/python/contrib.layers) packages for this layer. For more of a challenge, only use other TensorFlow packages.\n",
    "\n",
    "**Note:** Activation, softmax, or cross entropy should **not** be applied to this."
   ]
  },
  {
   "cell_type": "code",
   "execution_count": 12,
   "metadata": {},
   "outputs": [
    {
     "name": "stdout",
     "output_type": "stream",
     "text": [
      "Tests Passed\n"
     ]
    }
   ],
   "source": [
    "def output(x_tensor, num_outputs):\n",
    "    \"\"\"\n",
    "    Apply a output layer to x_tensor using weight and bias\n",
    "    : x_tensor: A 2-D tensor where the first dimension is batch size.\n",
    "    : num_outputs: The number of output that the new tensor should be.\n",
    "    : return: A 2-D tensor where the second dimension is num_outputs.\n",
    "    \"\"\"\n",
    "    # TODO: Implement Function\n",
    "    return tf.contrib.layers.fully_connected(\n",
    "        x_tensor, num_outputs=num_outputs, activation_fn=None)\n",
    "\n",
    "\n",
    "\"\"\"\n",
    "DON'T MODIFY ANYTHING IN THIS CELL THAT IS BELOW THIS LINE\n",
    "\"\"\"\n",
    "tests.test_output(output)"
   ]
  },
  {
   "cell_type": "markdown",
   "metadata": {},
   "source": [
    "### Create Convolutional Model\n",
    "Implement the function `conv_net` to create a convolutional neural network model. The function takes in a batch of images, `x`, and outputs logits.  Use the layers you created above to create this model:\n",
    "\n",
    "* Apply 1, 2, or 3 Convolution and Max Pool layers\n",
    "* Apply a Flatten Layer\n",
    "* Apply 1, 2, or 3 Fully Connected Layers\n",
    "* Apply an Output Layer\n",
    "* Return the output\n",
    "* Apply [TensorFlow's Dropout](https://www.tensorflow.org/api_docs/python/tf/nn/dropout) to one or more layers in the model using `keep_prob`. "
   ]
  },
  {
   "cell_type": "code",
   "execution_count": 32,
   "metadata": {},
   "outputs": [
    {
     "name": "stdout",
     "output_type": "stream",
     "text": [
      "Neural Network Built!\n"
     ]
    }
   ],
   "source": [
    "def conv_net(x, keep_prob):\n",
    "    \"\"\"\n",
    "    Create a convolutional neural network model\n",
    "    : x: Placeholder tensor that holds image data.\n",
    "    : keep_prob: Placeholder tensor that hold dropout keep probability.\n",
    "    : return: Tensor that represents logits\n",
    "    \"\"\"\n",
    "    # TODO: Apply 1, 2, or 3 Convolution and Max Pool layers\n",
    "    #    Play around with different number of outputs, kernel size and stride\n",
    "    # Function Definition from Above:\n",
    "    #    conv2d_maxpool(x_tensor, conv_num_outputs, conv_ksize, conv_strides, pool_ksize, pool_strides)\n",
    "    # First conv_maxpool layer\n",
    "    conv_num_outputs_1 = 10\n",
    "    conv_layer_1 = conv2d_maxpool(\n",
    "        x, conv_num_outputs_1, conv_ksize=(3, 3), \n",
    "        conv_strides=(1, 1), pool_ksize=(3, 3), pool_strides=(1, 1))\n",
    "    \n",
    "    # Second conv_maxpool layer\n",
    "    conv_num_outputs_2 = 20\n",
    "    conv_layer_2 = conv2d_maxpool(\n",
    "        conv_layer_1, conv_num_outputs_2, conv_ksize=(3, 3), \n",
    "        conv_strides=(1, 1), pool_ksize=(3, 3), pool_strides=(1, 1))\n",
    "    \n",
    "    # Third conv_maxpool layer\n",
    "    conv_num_outputs_3 = 30\n",
    "    conv_layer_3 = conv2d_maxpool(\n",
    "        conv_layer_2, conv_num_outputs_3, conv_ksize=(3, 3),\n",
    "        conv_strides=(1, 1), pool_ksize=(3, 3), pool_strides=(1, 1))\n",
    "    \n",
    "    # TODO: Apply a Flatten Layer\n",
    "    # Function Definition from Above:\n",
    "    #   flatten(x_tensor)\n",
    "    flatten_layer = flatten(conv_layer_3)\n",
    "    \n",
    "    # TODO: Apply 1, 2, or 3 Fully Connected Layers\n",
    "    #    Play around with different number of outputs\n",
    "    # Function Definition from Above:\n",
    "    #   fully_conn(x_tensor, num_outputs)\n",
    "    fully_number_output_1 = 200\n",
    "    fully_number_output_2 = 100\n",
    "    fully_number_output_3 = 50\n",
    "    \n",
    "    full_con1 = fully_conn(flatten_layer, fully_number_output_1)\n",
    "    full_con1 = tf.nn.dropout(full_con1, keep_prob)\n",
    "    full_con2 = fully_conn(full_con1, fully_number_output_2)\n",
    "    full_con2 = tf.nn.dropout(full_con2, keep_prob)\n",
    "    full_con3 = fully_conn(full_con2, fully_number_output_3)\n",
    "    full_con3 = tf.nn.dropout(full_con3, keep_prob)\n",
    "    \n",
    "    # TODO: Apply an Output Layer\n",
    "    #    Set this to the number of classes\n",
    "    # Function Definition from Above:\n",
    "    #   output(x_tensor, num_outputs)\n",
    "    output_layer = output(full_con3, conv_num_outputs_1)\n",
    "    \n",
    "    # TODO: return output\n",
    "    return output_layer\n",
    "\n",
    "\n",
    "\"\"\"\n",
    "DON'T MODIFY ANYTHING IN THIS CELL THAT IS BELOW THIS LINE\n",
    "\"\"\"\n",
    "\n",
    "##############################\n",
    "## Build the Neural Network ##\n",
    "##############################\n",
    "\n",
    "# Remove previous weights, bias, inputs, etc..\n",
    "tf.reset_default_graph()\n",
    "\n",
    "# Inputs\n",
    "x = neural_net_image_input((32, 32, 3))\n",
    "y = neural_net_label_input(10)\n",
    "keep_prob = neural_net_keep_prob_input()\n",
    "\n",
    "# Model\n",
    "logits = conv_net(x, keep_prob)\n",
    "\n",
    "# Name logits Tensor, so that is can be loaded from disk after training\n",
    "logits = tf.identity(logits, name='logits')\n",
    "\n",
    "# Loss and Optimizer\n",
    "cost = tf.reduce_mean(tf.nn.softmax_cross_entropy_with_logits(logits=logits, labels=y))\n",
    "optimizer = tf.train.AdamOptimizer().minimize(cost)\n",
    "\n",
    "# Accuracy\n",
    "correct_pred = tf.equal(tf.argmax(logits, 1), tf.argmax(y, 1))\n",
    "accuracy = tf.reduce_mean(tf.cast(correct_pred, tf.float32), name='accuracy')\n",
    "\n",
    "tests.test_conv_net(conv_net)"
   ]
  },
  {
   "cell_type": "markdown",
   "metadata": {},
   "source": [
    "## Train the Neural Network\n",
    "### Single Optimization\n",
    "Implement the function `train_neural_network` to do a single optimization.  The optimization should use `optimizer` to optimize in `session` with a `feed_dict` of the following:\n",
    "* `x` for image input\n",
    "* `y` for labels\n",
    "* `keep_prob` for keep probability for dropout\n",
    "\n",
    "This function will be called for each batch, so `tf.global_variables_initializer()` has already been called.\n",
    "\n",
    "Note: Nothing needs to be returned. This function is only optimizing the neural network."
   ]
  },
  {
   "cell_type": "code",
   "execution_count": 33,
   "metadata": {},
   "outputs": [
    {
     "name": "stdout",
     "output_type": "stream",
     "text": [
      "Tests Passed\n"
     ]
    }
   ],
   "source": [
    "def train_neural_network(session, optimizer, keep_probability, feature_batch, label_batch):\n",
    "    \"\"\"\n",
    "    Optimize the session on a batch of images and labels\n",
    "    : session: Current TensorFlow session\n",
    "    : optimizer: TensorFlow optimizer function\n",
    "    : keep_probability: keep probability\n",
    "    : feature_batch: Batch of Numpy image data\n",
    "    : label_batch: Batch of Numpy label data\n",
    "    \"\"\"\n",
    "    # TODO: Implement Function\n",
    "    session.run(\n",
    "        optimizer, feed_dict={\n",
    "            x: feature_batch, y: label_batch, keep_prob: keep_probability}\n",
    "    )\n",
    "\n",
    "\n",
    "\"\"\"\n",
    "DON'T MODIFY ANYTHING IN THIS CELL THAT IS BELOW THIS LINE\n",
    "\"\"\"\n",
    "tests.test_train_nn(train_neural_network)"
   ]
  },
  {
   "cell_type": "markdown",
   "metadata": {},
   "source": [
    "### Show Stats\n",
    "Implement the function `print_stats` to print loss and validation accuracy.  Use the global variables `valid_features` and `valid_labels` to calculate validation accuracy.  Use a keep probability of `1.0` to calculate the loss and validation accuracy."
   ]
  },
  {
   "cell_type": "code",
   "execution_count": 41,
   "metadata": {},
   "outputs": [],
   "source": [
    "def print_stats(session, feature_batch, label_batch, cost, accuracy):\n",
    "    \"\"\"\n",
    "    Print information about loss and validation accuracy\n",
    "    : session: Current TensorFlow session\n",
    "    : feature_batch: Batch of Numpy image data\n",
    "    : label_batch: Batch of Numpy label data\n",
    "    : cost: TensorFlow cost function\n",
    "    : accuracy: TensorFlow accuracy function\n",
    "    \"\"\"\n",
    "    # TODO: Implement Function\n",
    "    loss = session.run(\n",
    "        cost, {\n",
    "            x: feature_batch, y: label_batch, keep_prob: 1.0}\n",
    "    )\n",
    "    accuracy = session.run(\n",
    "        accuracy, {\n",
    "            x: valid_features, y: valid_labels, keep_prob: 1.0}\n",
    "    )\n",
    "    print('loss: {} accuracy: {}'.format(loss, accuracy))"
   ]
  },
  {
   "cell_type": "markdown",
   "metadata": {},
   "source": [
    "### Hyperparameters\n",
    "Tune the following parameters:\n",
    "* Set `epochs` to the number of iterations until the network stops learning or start overfitting\n",
    "* Set `batch_size` to the highest number that your machine has memory for.  Most people set them to common sizes of memory:\n",
    " * 64\n",
    " * 128\n",
    " * 256\n",
    " * ...\n",
    "* Set `keep_probability` to the probability of keeping a node using dropout"
   ]
  },
  {
   "cell_type": "code",
   "execution_count": 42,
   "metadata": {
    "collapsed": true
   },
   "outputs": [],
   "source": [
    "# TODO: Tune Parameters\n",
    "epochs = 25\n",
    "batch_size = 128\n",
    "keep_probability = 0.55"
   ]
  },
  {
   "cell_type": "markdown",
   "metadata": {},
   "source": [
    "### Train on a Single CIFAR-10 Batch\n",
    "Instead of training the neural network on all the CIFAR-10 batches of data, let's use a single batch. This should save time while you iterate on the model to get a better accuracy.  Once the final validation accuracy is 50% or greater, run the model on all the data in the next section."
   ]
  },
  {
   "cell_type": "code",
   "execution_count": 43,
   "metadata": {},
   "outputs": [
    {
     "name": "stdout",
     "output_type": "stream",
     "text": [
      "Checking the Training on a Single Batch...\n",
      "Epoch  1, CIFAR-10 Batch 1:  loss: 2.246781587600708 accuracy: 0.141199991106987\n",
      "Epoch  2, CIFAR-10 Batch 1:  loss: 2.1354005336761475 accuracy: 0.18919998407363892\n",
      "Epoch  3, CIFAR-10 Batch 1:  loss: 2.04606032371521 accuracy: 0.282399982213974\n",
      "Epoch  4, CIFAR-10 Batch 1:  loss: 2.0089902877807617 accuracy: 0.30959999561309814\n",
      "Epoch  5, CIFAR-10 Batch 1:  loss: 1.887532114982605 accuracy: 0.3610000014305115\n",
      "Epoch  6, CIFAR-10 Batch 1:  loss: 1.8107057809829712 accuracy: 0.39539995789527893\n",
      "Epoch  7, CIFAR-10 Batch 1:  loss: 1.6897242069244385 accuracy: 0.3585999608039856\n",
      "Epoch  8, CIFAR-10 Batch 1:  loss: 1.5517892837524414 accuracy: 0.4174000024795532\n",
      "Epoch  9, CIFAR-10 Batch 1:  loss: 1.4734761714935303 accuracy: 0.421999990940094\n",
      "Epoch 10, CIFAR-10 Batch 1:  loss: 1.4093540906906128 accuracy: 0.41839998960494995\n",
      "Epoch 11, CIFAR-10 Batch 1:  loss: 1.316564917564392 accuracy: 0.43119993805885315\n",
      "Epoch 12, CIFAR-10 Batch 1:  loss: 1.30940842628479 accuracy: 0.45339998602867126\n",
      "Epoch 13, CIFAR-10 Batch 1:  loss: 1.2259490489959717 accuracy: 0.45139995217323303\n",
      "Epoch 14, CIFAR-10 Batch 1:  loss: 1.1737054586410522 accuracy: 0.4803999364376068\n",
      "Epoch 15, CIFAR-10 Batch 1:  loss: 1.2093147039413452 accuracy: 0.4671999514102936\n",
      "Epoch 16, CIFAR-10 Batch 1:  loss: 1.1155400276184082 accuracy: 0.47019994258880615\n",
      "Epoch 17, CIFAR-10 Batch 1:  loss: 1.0602262020111084 accuracy: 0.46559998393058777\n",
      "Epoch 18, CIFAR-10 Batch 1:  loss: 1.199955701828003 accuracy: 0.472199946641922\n",
      "Epoch 19, CIFAR-10 Batch 1:  loss: 1.0659258365631104 accuracy: 0.4931999742984772\n",
      "Epoch 20, CIFAR-10 Batch 1:  loss: 0.9765459299087524 accuracy: 0.4973999559879303\n",
      "Epoch 21, CIFAR-10 Batch 1:  loss: 0.9586725234985352 accuracy: 0.49219995737075806\n",
      "Epoch 22, CIFAR-10 Batch 1:  loss: 0.9716500639915466 accuracy: 0.4949999451637268\n",
      "Epoch 23, CIFAR-10 Batch 1:  loss: 0.9208759069442749 accuracy: 0.4991999566555023\n",
      "Epoch 24, CIFAR-10 Batch 1:  loss: 0.8700062036514282 accuracy: 0.5051999688148499\n",
      "Epoch 25, CIFAR-10 Batch 1:  loss: 0.8556795120239258 accuracy: 0.5097999572753906\n"
     ]
    }
   ],
   "source": [
    "\"\"\"\n",
    "DON'T MODIFY ANYTHING IN THIS CELL\n",
    "\"\"\"\n",
    "print('Checking the Training on a Single Batch...')\n",
    "with tf.Session() as sess:\n",
    "    # Initializing the variables\n",
    "    sess.run(tf.global_variables_initializer())\n",
    "    \n",
    "    # Training cycle\n",
    "    for epoch in range(epochs):\n",
    "        batch_i = 1\n",
    "        for batch_features, batch_labels in helper.load_preprocess_training_batch(batch_i, batch_size):\n",
    "            train_neural_network(sess, optimizer, keep_probability, batch_features, batch_labels)\n",
    "        print('Epoch {:>2}, CIFAR-10 Batch {}:  '.format(epoch + 1, batch_i), end='')\n",
    "        print_stats(sess, batch_features, batch_labels, cost, accuracy)"
   ]
  },
  {
   "cell_type": "markdown",
   "metadata": {},
   "source": [
    "### Fully Train the Model\n",
    "Now that you got a good accuracy with a single CIFAR-10 batch, try it with all five batches."
   ]
  },
  {
   "cell_type": "code",
   "execution_count": 44,
   "metadata": {},
   "outputs": [
    {
     "name": "stdout",
     "output_type": "stream",
     "text": [
      "Training...\n",
      "Epoch  1, CIFAR-10 Batch 1:  loss: 2.286541223526001 accuracy: 0.20759999752044678\n",
      "Epoch  1, CIFAR-10 Batch 2:  loss: 2.128755569458008 accuracy: 0.24399997293949127\n",
      "Epoch  1, CIFAR-10 Batch 3:  loss: 1.8544058799743652 accuracy: 0.3061999976634979\n",
      "Epoch  1, CIFAR-10 Batch 4:  loss: 1.7221201658248901 accuracy: 0.3578000068664551\n",
      "Epoch  1, CIFAR-10 Batch 5:  loss: 1.7426725625991821 accuracy: 0.4050000011920929\n",
      "Epoch  2, CIFAR-10 Batch 1:  loss: 1.8860766887664795 accuracy: 0.42159995436668396\n",
      "Epoch  2, CIFAR-10 Batch 2:  loss: 1.5567588806152344 accuracy: 0.45159998536109924\n",
      "Epoch  2, CIFAR-10 Batch 3:  loss: 1.3271441459655762 accuracy: 0.45979997515678406\n",
      "Epoch  2, CIFAR-10 Batch 4:  loss: 1.4987521171569824 accuracy: 0.4601999521255493\n",
      "Epoch  2, CIFAR-10 Batch 5:  loss: 1.5716192722320557 accuracy: 0.4821999967098236\n",
      "Epoch  3, CIFAR-10 Batch 1:  loss: 1.5537484884262085 accuracy: 0.46859997510910034\n",
      "Epoch  3, CIFAR-10 Batch 2:  loss: 1.421522617340088 accuracy: 0.5007998943328857\n",
      "Epoch  3, CIFAR-10 Batch 3:  loss: 1.151895523071289 accuracy: 0.4973999559879303\n",
      "Epoch  3, CIFAR-10 Batch 4:  loss: 1.3292360305786133 accuracy: 0.5087999701499939\n",
      "Epoch  3, CIFAR-10 Batch 5:  loss: 1.3783650398254395 accuracy: 0.5329999923706055\n",
      "Epoch  4, CIFAR-10 Batch 1:  loss: 1.3669545650482178 accuracy: 0.48579999804496765\n",
      "Epoch  4, CIFAR-10 Batch 2:  loss: 1.252115249633789 accuracy: 0.5405999422073364\n",
      "Epoch  4, CIFAR-10 Batch 3:  loss: 1.027187466621399 accuracy: 0.5403999090194702\n",
      "Epoch  4, CIFAR-10 Batch 4:  loss: 1.2167550325393677 accuracy: 0.5209999084472656\n",
      "Epoch  4, CIFAR-10 Batch 5:  loss: 1.3307682275772095 accuracy: 0.5219999551773071\n",
      "Epoch  5, CIFAR-10 Batch 1:  loss: 1.188030481338501 accuracy: 0.5485999584197998\n",
      "Epoch  5, CIFAR-10 Batch 2:  loss: 1.1623656749725342 accuracy: 0.5237999558448792\n",
      "Epoch  5, CIFAR-10 Batch 3:  loss: 1.068735122680664 accuracy: 0.538599967956543\n",
      "Epoch  5, CIFAR-10 Batch 4:  loss: 1.1357733011245728 accuracy: 0.5655999183654785\n",
      "Epoch  5, CIFAR-10 Batch 5:  loss: 1.1411168575286865 accuracy: 0.561799943447113\n",
      "Epoch  6, CIFAR-10 Batch 1:  loss: 1.1561648845672607 accuracy: 0.5579999685287476\n",
      "Epoch  6, CIFAR-10 Batch 2:  loss: 1.0968358516693115 accuracy: 0.5667999386787415\n",
      "Epoch  6, CIFAR-10 Batch 3:  loss: 0.945339560508728 accuracy: 0.5757999420166016\n",
      "Epoch  6, CIFAR-10 Batch 4:  loss: 1.0791367292404175 accuracy: 0.5673999190330505\n",
      "Epoch  6, CIFAR-10 Batch 5:  loss: 1.0577847957611084 accuracy: 0.5893998742103577\n",
      "Epoch  7, CIFAR-10 Batch 1:  loss: 1.0342522859573364 accuracy: 0.5829998850822449\n",
      "Epoch  7, CIFAR-10 Batch 2:  loss: 0.9354718923568726 accuracy: 0.5809998512268066\n",
      "Epoch  7, CIFAR-10 Batch 3:  loss: 0.8795101046562195 accuracy: 0.5765999555587769\n",
      "Epoch  7, CIFAR-10 Batch 4:  loss: 1.0570194721221924 accuracy: 0.5699999332427979\n",
      "Epoch  7, CIFAR-10 Batch 5:  loss: 1.0061663389205933 accuracy: 0.567599892616272\n",
      "Epoch  8, CIFAR-10 Batch 1:  loss: 1.0497397184371948 accuracy: 0.5779999494552612\n",
      "Epoch  8, CIFAR-10 Batch 2:  loss: 0.9054107666015625 accuracy: 0.5703999400138855\n",
      "Epoch  8, CIFAR-10 Batch 3:  loss: 0.8828986883163452 accuracy: 0.5913999080657959\n",
      "Epoch  8, CIFAR-10 Batch 4:  loss: 0.9951397180557251 accuracy: 0.5855998992919922\n",
      "Epoch  8, CIFAR-10 Batch 5:  loss: 0.9747479557991028 accuracy: 0.605199933052063\n",
      "Epoch  9, CIFAR-10 Batch 1:  loss: 0.93277907371521 accuracy: 0.5931999087333679\n",
      "Epoch  9, CIFAR-10 Batch 2:  loss: 0.7769246101379395 accuracy: 0.5999999046325684\n",
      "Epoch  9, CIFAR-10 Batch 3:  loss: 0.7710922956466675 accuracy: 0.5949999690055847\n",
      "Epoch  9, CIFAR-10 Batch 4:  loss: 0.9255033135414124 accuracy: 0.6133999228477478\n",
      "Epoch  9, CIFAR-10 Batch 5:  loss: 1.0197499990463257 accuracy: 0.584399938583374\n",
      "Epoch 10, CIFAR-10 Batch 1:  loss: 0.8774436712265015 accuracy: 0.6085999011993408\n",
      "Epoch 10, CIFAR-10 Batch 2:  loss: 0.7920259237289429 accuracy: 0.601599931716919\n",
      "Epoch 10, CIFAR-10 Batch 3:  loss: 0.7015712261199951 accuracy: 0.6215999126434326\n",
      "Epoch 10, CIFAR-10 Batch 4:  loss: 0.8444580435752869 accuracy: 0.6147999167442322\n",
      "Epoch 10, CIFAR-10 Batch 5:  loss: 0.9488127827644348 accuracy: 0.6279999017715454\n",
      "Epoch 11, CIFAR-10 Batch 1:  loss: 0.8230445384979248 accuracy: 0.6263999342918396\n",
      "Epoch 11, CIFAR-10 Batch 2:  loss: 0.8326272964477539 accuracy: 0.6233999133110046\n",
      "Epoch 11, CIFAR-10 Batch 3:  loss: 0.6622045040130615 accuracy: 0.6175999045372009\n",
      "Epoch 11, CIFAR-10 Batch 4:  loss: 0.8384656310081482 accuracy: 0.5937999486923218\n",
      "Epoch 11, CIFAR-10 Batch 5:  loss: 0.8879826068878174 accuracy: 0.6137999296188354\n",
      "Epoch 12, CIFAR-10 Batch 1:  loss: 0.775794267654419 accuracy: 0.6317998766899109\n",
      "Epoch 12, CIFAR-10 Batch 2:  loss: 0.7863800525665283 accuracy: 0.6223998665809631\n",
      "Epoch 12, CIFAR-10 Batch 3:  loss: 0.6916775107383728 accuracy: 0.610599935054779\n",
      "Epoch 12, CIFAR-10 Batch 4:  loss: 0.7899490594863892 accuracy: 0.6235998868942261\n",
      "Epoch 12, CIFAR-10 Batch 5:  loss: 0.8261326551437378 accuracy: 0.6273999214172363\n",
      "Epoch 13, CIFAR-10 Batch 1:  loss: 0.7361199855804443 accuracy: 0.6237999200820923\n",
      "Epoch 13, CIFAR-10 Batch 2:  loss: 0.7626254558563232 accuracy: 0.6151999235153198\n",
      "Epoch 13, CIFAR-10 Batch 3:  loss: 0.685722827911377 accuracy: 0.6249999403953552\n",
      "Epoch 13, CIFAR-10 Batch 4:  loss: 0.7990064024925232 accuracy: 0.6213998794555664\n",
      "Epoch 13, CIFAR-10 Batch 5:  loss: 0.8472468852996826 accuracy: 0.624799907207489\n",
      "Epoch 14, CIFAR-10 Batch 1:  loss: 0.7357382774353027 accuracy: 0.608199954032898\n",
      "Epoch 14, CIFAR-10 Batch 2:  loss: 0.7488300204277039 accuracy: 0.6319999098777771\n",
      "Epoch 14, CIFAR-10 Batch 3:  loss: 0.6157461404800415 accuracy: 0.6381999254226685\n",
      "Epoch 14, CIFAR-10 Batch 4:  loss: 0.8404290080070496 accuracy: 0.6113999485969543\n",
      "Epoch 14, CIFAR-10 Batch 5:  loss: 0.7560745477676392 accuracy: 0.6305999159812927\n",
      "Epoch 15, CIFAR-10 Batch 1:  loss: 0.6490606665611267 accuracy: 0.6363998651504517\n",
      "Epoch 15, CIFAR-10 Batch 2:  loss: 0.6598129272460938 accuracy: 0.6243999004364014\n",
      "Epoch 15, CIFAR-10 Batch 3:  loss: 0.6060159206390381 accuracy: 0.6375999450683594\n",
      "Epoch 15, CIFAR-10 Batch 4:  loss: 0.6914106607437134 accuracy: 0.624799907207489\n",
      "Epoch 15, CIFAR-10 Batch 5:  loss: 0.7597434520721436 accuracy: 0.6287999153137207\n",
      "Epoch 16, CIFAR-10 Batch 1:  loss: 0.6239827871322632 accuracy: 0.6341999173164368\n",
      "Epoch 16, CIFAR-10 Batch 2:  loss: 0.6968409419059753 accuracy: 0.6405999064445496\n",
      "Epoch 16, CIFAR-10 Batch 3:  loss: 0.6360085010528564 accuracy: 0.6275998950004578\n",
      "Epoch 16, CIFAR-10 Batch 4:  loss: 0.7026798129081726 accuracy: 0.639799952507019\n",
      "Epoch 16, CIFAR-10 Batch 5:  loss: 0.7197076678276062 accuracy: 0.6325998902320862\n",
      "Epoch 17, CIFAR-10 Batch 1:  loss: 0.7059367895126343 accuracy: 0.6169999241828918\n",
      "Epoch 17, CIFAR-10 Batch 2:  loss: 0.5580739974975586 accuracy: 0.6357998251914978\n",
      "Epoch 17, CIFAR-10 Batch 3:  loss: 0.5788828730583191 accuracy: 0.6325998902320862\n",
      "Epoch 17, CIFAR-10 Batch 4:  loss: 0.6338971853256226 accuracy: 0.6355999112129211\n",
      "Epoch 17, CIFAR-10 Batch 5:  loss: 0.6514295339584351 accuracy: 0.6389999389648438\n",
      "Epoch 18, CIFAR-10 Batch 1:  loss: 0.6028534770011902 accuracy: 0.6095998883247375\n",
      "Epoch 18, CIFAR-10 Batch 2:  loss: 0.625188946723938 accuracy: 0.6283999085426331\n",
      "Epoch 18, CIFAR-10 Batch 3:  loss: 0.5931397080421448 accuracy: 0.6369999051094055\n",
      "Epoch 18, CIFAR-10 Batch 4:  loss: 0.65202796459198 accuracy: 0.6403999328613281\n",
      "Epoch 18, CIFAR-10 Batch 5:  loss: 0.6003056764602661 accuracy: 0.6461998224258423\n",
      "Epoch 19, CIFAR-10 Batch 1:  loss: 0.6070287227630615 accuracy: 0.6201998591423035\n",
      "Epoch 19, CIFAR-10 Batch 2:  loss: 0.6178897619247437 accuracy: 0.6419999003410339\n",
      "Epoch 19, CIFAR-10 Batch 3:  loss: 0.4974546730518341 accuracy: 0.6481999158859253\n",
      "Epoch 19, CIFAR-10 Batch 4:  loss: 0.60202956199646 accuracy: 0.6309999227523804\n",
      "Epoch 19, CIFAR-10 Batch 5:  loss: 0.6063361167907715 accuracy: 0.6435999274253845\n",
      "Epoch 20, CIFAR-10 Batch 1:  loss: 0.6563358902931213 accuracy: 0.6089999079704285\n",
      "Epoch 20, CIFAR-10 Batch 2:  loss: 0.5349716544151306 accuracy: 0.6357998847961426\n",
      "Epoch 20, CIFAR-10 Batch 3:  loss: 0.5157216787338257 accuracy: 0.6391999125480652\n",
      "Epoch 20, CIFAR-10 Batch 4:  loss: 0.6121194362640381 accuracy: 0.6375999450683594\n"
     ]
    },
    {
     "name": "stdout",
     "output_type": "stream",
     "text": [
      "Epoch 20, CIFAR-10 Batch 5:  loss: 0.6363447904586792 accuracy: 0.6479998826980591\n",
      "Epoch 21, CIFAR-10 Batch 1:  loss: 0.5426632761955261 accuracy: 0.6417999267578125\n",
      "Epoch 21, CIFAR-10 Batch 2:  loss: 0.5633735060691833 accuracy: 0.6523998975753784\n",
      "Epoch 21, CIFAR-10 Batch 3:  loss: 0.4395202398300171 accuracy: 0.6313998699188232\n",
      "Epoch 21, CIFAR-10 Batch 4:  loss: 0.6928462982177734 accuracy: 0.6287998557090759\n",
      "Epoch 21, CIFAR-10 Batch 5:  loss: 0.6019582748413086 accuracy: 0.6255998611450195\n",
      "Epoch 22, CIFAR-10 Batch 1:  loss: 0.5527029037475586 accuracy: 0.6387999057769775\n",
      "Epoch 22, CIFAR-10 Batch 2:  loss: 0.5730466842651367 accuracy: 0.6459999084472656\n",
      "Epoch 22, CIFAR-10 Batch 3:  loss: 0.4146690368652344 accuracy: 0.638999879360199\n",
      "Epoch 22, CIFAR-10 Batch 4:  loss: 0.599751353263855 accuracy: 0.6329998970031738\n",
      "Epoch 22, CIFAR-10 Batch 5:  loss: 0.5602108240127563 accuracy: 0.6471998691558838\n",
      "Epoch 23, CIFAR-10 Batch 1:  loss: 0.5848957300186157 accuracy: 0.6429998874664307\n",
      "Epoch 23, CIFAR-10 Batch 2:  loss: 0.5573880672454834 accuracy: 0.6415998935699463\n",
      "Epoch 23, CIFAR-10 Batch 3:  loss: 0.4472305178642273 accuracy: 0.6363998651504517\n",
      "Epoch 23, CIFAR-10 Batch 4:  loss: 0.6053946614265442 accuracy: 0.6479998826980591\n",
      "Epoch 23, CIFAR-10 Batch 5:  loss: 0.585364043712616 accuracy: 0.6355998516082764\n",
      "Epoch 24, CIFAR-10 Batch 1:  loss: 0.5278289318084717 accuracy: 0.6359999179840088\n",
      "Epoch 24, CIFAR-10 Batch 2:  loss: 0.5243405103683472 accuracy: 0.6431998610496521\n",
      "Epoch 24, CIFAR-10 Batch 3:  loss: 0.43438398838043213 accuracy: 0.6373999118804932\n",
      "Epoch 24, CIFAR-10 Batch 4:  loss: 0.6068480610847473 accuracy: 0.6461998820304871\n",
      "Epoch 24, CIFAR-10 Batch 5:  loss: 0.5418908596038818 accuracy: 0.6433998346328735\n",
      "Epoch 25, CIFAR-10 Batch 1:  loss: 0.5044692158699036 accuracy: 0.6335998773574829\n",
      "Epoch 25, CIFAR-10 Batch 2:  loss: 0.4906521439552307 accuracy: 0.6533998847007751\n",
      "Epoch 25, CIFAR-10 Batch 3:  loss: 0.4720728397369385 accuracy: 0.6405999660491943\n",
      "Epoch 25, CIFAR-10 Batch 4:  loss: 0.5776272416114807 accuracy: 0.6461998820304871\n",
      "Epoch 25, CIFAR-10 Batch 5:  loss: 0.5273634195327759 accuracy: 0.6361998915672302\n"
     ]
    }
   ],
   "source": [
    "\"\"\"\n",
    "DON'T MODIFY ANYTHING IN THIS CELL\n",
    "\"\"\"\n",
    "save_model_path = './image_classification'\n",
    "\n",
    "print('Training...')\n",
    "with tf.Session() as sess:\n",
    "    # Initializing the variables\n",
    "    sess.run(tf.global_variables_initializer())\n",
    "    \n",
    "    # Training cycle\n",
    "    for epoch in range(epochs):\n",
    "        # Loop over all batches\n",
    "        n_batches = 5\n",
    "        for batch_i in range(1, n_batches + 1):\n",
    "            for batch_features, batch_labels in helper.load_preprocess_training_batch(batch_i, batch_size):\n",
    "                train_neural_network(sess, optimizer, keep_probability, batch_features, batch_labels)\n",
    "            print('Epoch {:>2}, CIFAR-10 Batch {}:  '.format(epoch + 1, batch_i), end='')\n",
    "            print_stats(sess, batch_features, batch_labels, cost, accuracy)\n",
    "            \n",
    "    # Save Model\n",
    "    saver = tf.train.Saver()\n",
    "    save_path = saver.save(sess, save_model_path)"
   ]
  },
  {
   "cell_type": "markdown",
   "metadata": {},
   "source": [
    "# Checkpoint\n",
    "The model has been saved to disk.\n",
    "## Test Model\n",
    "Test your model against the test dataset.  This will be your final accuracy. You should have an accuracy greater than 50%. If you don't, keep tweaking the model architecture and parameters."
   ]
  },
  {
   "cell_type": "code",
   "execution_count": 45,
   "metadata": {},
   "outputs": [
    {
     "name": "stdout",
     "output_type": "stream",
     "text": [
      "INFO:tensorflow:Restoring parameters from ./image_classification\n",
      "Testing Accuracy: 0.6314280063291139\n",
      "\n"
     ]
    },
    {
     "data": {
      "image/png": "[encoded data removed]",
      "text/plain": [
       "<matplotlib.figure.Figure at 0x7fbad83a2b70>"
      ]
     },
     "metadata": {
      "image/png": {
       "height": 319,
       "width": 355
      }
     },
     "output_type": "display_data"
    }
   ],
   "source": [
    "\"\"\"\n",
    "DON'T MODIFY ANYTHING IN THIS CELL\n",
    "\"\"\"\n",
    "%matplotlib inline\n",
    "%config InlineBackend.figure_format = 'retina'\n",
    "\n",
    "import tensorflow as tf\n",
    "import pickle\n",
    "import helper\n",
    "import random\n",
    "\n",
    "# Set batch size if not already set\n",
    "try:\n",
    "    if batch_size:\n",
    "        pass\n",
    "except NameError:\n",
    "    batch_size = 64\n",
    "\n",
    "save_model_path = './image_classification'\n",
    "n_samples = 4\n",
    "top_n_predictions = 3\n",
    "\n",
    "def test_model():\n",
    "    \"\"\"\n",
    "    Test the saved model against the test dataset\n",
    "    \"\"\"\n",
    "\n",
    "    test_features, test_labels = pickle.load(open('preprocess_test.p', mode='rb'))\n",
    "    loaded_graph = tf.Graph()\n",
    "\n",
    "    with tf.Session(graph=loaded_graph) as sess:\n",
    "        # Load model\n",
    "        loader = tf.train.import_meta_graph(save_model_path + '.meta')\n",
    "        loader.restore(sess, save_model_path)\n",
    "\n",
    "        # Get Tensors from loaded model\n",
    "        loaded_x = loaded_graph.get_tensor_by_name('x:0')\n",
    "        loaded_y = loaded_graph.get_tensor_by_name('y:0')\n",
    "        loaded_keep_prob = loaded_graph.get_tensor_by_name('keep_prob:0')\n",
    "        loaded_logits = loaded_graph.get_tensor_by_name('logits:0')\n",
    "        loaded_acc = loaded_graph.get_tensor_by_name('accuracy:0')\n",
    "        \n",
    "        # Get accuracy in batches for memory limitations\n",
    "        test_batch_acc_total = 0\n",
    "        test_batch_count = 0\n",
    "        \n",
    "        for test_feature_batch, test_label_batch in helper.batch_features_labels(test_features, test_labels, batch_size):\n",
    "            test_batch_acc_total += sess.run(\n",
    "                loaded_acc,\n",
    "                feed_dict={loaded_x: test_feature_batch, loaded_y: test_label_batch, loaded_keep_prob: 1.0})\n",
    "            test_batch_count += 1\n",
    "\n",
    "        print('Testing Accuracy: {}\\n'.format(test_batch_acc_total/test_batch_count))\n",
    "\n",
    "        # Print Random Samples\n",
    "        random_test_features, random_test_labels = tuple(zip(*random.sample(list(zip(test_features, test_labels)), n_samples)))\n",
    "        random_test_predictions = sess.run(\n",
    "            tf.nn.top_k(tf.nn.softmax(loaded_logits), top_n_predictions),\n",
    "            feed_dict={loaded_x: random_test_features, loaded_y: random_test_labels, loaded_keep_prob: 1.0})\n",
    "        helper.display_image_predictions(random_test_features, random_test_labels, random_test_predictions)\n",
    "\n",
    "\n",
    "test_model()"
   ]
  },
  {
   "cell_type": "markdown",
   "metadata": {},
   "source": [
    "## Why 50-80% Accuracy?\n",
    "You might be wondering why you can't get an accuracy any higher. First things first, 50% isn't bad for a simple CNN.  Pure guessing would get you 10% accuracy. However, you might notice people are getting scores [well above 80%](http://rodrigob.github.io/are_we_there_yet/build/classification_datasets_results.html#43494641522d3130).  That's because we haven't taught you all there is to know about neural networks. We still need to cover a few more techniques.\n",
    "## Submitting This Project\n",
    "When submitting this project, make sure to run all the cells before saving the notebook.  Save the notebook file as \"dlnd_image_classification.ipynb\" and save it as a HTML file under \"File\" -> \"Download as\".  Include the \"helper.py\" and \"problem_unittests.py\" files in your submission."
   ]
  },
  {
   "cell_type": "code",
   "execution_count": null,
   "metadata": {
    "collapsed": true
   },
   "outputs": [],
   "source": []
  }
 ],
 "metadata": {
  "kernelspec": {
   "display_name": "Python 3",
   "language": "python",
   "name": "python3"
  },
  "language_info": {
   "codemirror_mode": {
    "name": "ipython",
    "version": 3
   },
   "file_extension": ".py",
   "mimetype": "text/x-python",
   "name": "python",
   "nbconvert_exporter": "python",
   "pygments_lexer": "ipython3",
   "version": "3.5.3"
  }
 },
 "nbformat": 4,
 "nbformat_minor": 1
}
